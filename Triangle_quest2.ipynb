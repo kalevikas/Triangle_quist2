{
 "cells": [
  {
   "cell_type": "code",
   "execution_count": 1,
   "id": "ebdbe782",
   "metadata": {},
   "outputs": [
    {
     "name": "stdout",
     "output_type": "stream",
     "text": [
      "5\n",
      "1\n",
      "121\n",
      "12321\n",
      "1234321\n",
      "123454321\n"
     ]
    }
   ],
   "source": [
    "for x in range(1,int(input())+1):\n",
    "    print(((10**x - 1)//9)**2)"
   ]
  },
  {
   "cell_type": "code",
   "execution_count": 2,
   "id": "640bf874",
   "metadata": {},
   "outputs": [
    {
     "name": "stdout",
     "output_type": "stream",
     "text": [
      "5\n",
      "1\n",
      "121\n",
      "12321\n",
      "1234321\n",
      "123454321\n"
     ]
    }
   ],
   "source": [
    "for i in range(1,int(input())+1):\n",
    "    print(((pow(10,i))//9)**2)"
   ]
  },
  {
   "cell_type": "code",
   "execution_count": 3,
   "id": "9c14bb80",
   "metadata": {},
   "outputs": [
    {
     "data": {
      "text/plain": [
       "10"
      ]
     },
     "execution_count": 3,
     "metadata": {},
     "output_type": "execute_result"
    }
   ],
   "source": [
    "pow(10,1)"
   ]
  },
  {
   "cell_type": "code",
   "execution_count": 4,
   "id": "43d60a69",
   "metadata": {},
   "outputs": [
    {
     "data": {
      "text/plain": [
       "100"
      ]
     },
     "execution_count": 4,
     "metadata": {},
     "output_type": "execute_result"
    }
   ],
   "source": [
    "pow(10,2)"
   ]
  },
  {
   "cell_type": "code",
   "execution_count": 5,
   "id": "c81bc443",
   "metadata": {},
   "outputs": [
    {
     "data": {
      "text/plain": [
       "1"
      ]
     },
     "execution_count": 5,
     "metadata": {},
     "output_type": "execute_result"
    }
   ],
   "source": [
    "(pow(10,1))//9"
   ]
  },
  {
   "cell_type": "code",
   "execution_count": 6,
   "id": "97f08c22",
   "metadata": {},
   "outputs": [
    {
     "data": {
      "text/plain": [
       "11"
      ]
     },
     "execution_count": 6,
     "metadata": {},
     "output_type": "execute_result"
    }
   ],
   "source": [
    "(pow(10,2)//9)"
   ]
  },
  {
   "cell_type": "code",
   "execution_count": 7,
   "id": "87654e53",
   "metadata": {},
   "outputs": [
    {
     "data": {
      "text/plain": [
       "111"
      ]
     },
     "execution_count": 7,
     "metadata": {},
     "output_type": "execute_result"
    }
   ],
   "source": [
    "(pow(10,3)//9)"
   ]
  },
  {
   "cell_type": "code",
   "execution_count": 8,
   "id": "d9b91d31",
   "metadata": {},
   "outputs": [
    {
     "data": {
      "text/plain": [
       "12321"
      ]
     },
     "execution_count": 8,
     "metadata": {},
     "output_type": "execute_result"
    }
   ],
   "source": [
    "(pow(10,3)//9)**2"
   ]
  },
  {
   "cell_type": "code",
   "execution_count": null,
   "id": "3ec384af",
   "metadata": {},
   "outputs": [],
   "source": []
  }
 ],
 "metadata": {
  "kernelspec": {
   "display_name": "Python 3",
   "language": "python",
   "name": "python3"
  },
  "language_info": {
   "codemirror_mode": {
    "name": "ipython",
    "version": 3
   },
   "file_extension": ".py",
   "mimetype": "text/x-python",
   "name": "python",
   "nbconvert_exporter": "python",
   "pygments_lexer": "ipython3",
   "version": "3.8.8"
  }
 },
 "nbformat": 4,
 "nbformat_minor": 5
}
